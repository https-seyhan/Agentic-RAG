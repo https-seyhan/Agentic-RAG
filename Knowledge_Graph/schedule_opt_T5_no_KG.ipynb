{
 "cells": [
  {
   "cell_type": "markdown",
   "id": "ecae305d-6791-4c5a-8c23-71af49d7d1b5",
   "metadata": {},
   "source": [
    "To optimize a construction schedule using an Agentic Retrieval-Augmented Generation (RAG) system with T5-small for question-answering without using a knowledge graph, we can focus on integrating document retrieval directly with the T5 model. This involves leveraging documents that contain relevant information about the construction tasks, dependencies, resources, and other critical factors.\n",
    "Step-by-Step Implementation\n",
    "\n",
    "    Data Collection and Preparation: Collect and prepare the data, including task details, dependencies, resource allocations, and relevant documents.\n",
    "    Integrate Document Retrieval: Use a document retrieval system to fetch relevant documents based on queries.\n",
    "    Integrate the T5 Model: Use the T5 model for question-answering, leveraging the retrieved documents for better context.\n",
    "    Implement the Agentic RAG System: Combine document retrieval and the T5 model for schedule optimization."
   ]
  },
  {
   "cell_type": "code",
   "execution_count": 1,
   "id": "bf8cd487-b1cf-48eb-b47a-9063f895991c",
   "metadata": {},
   "outputs": [],
   "source": [
    "from transformers import AutoTokenizer, AutoModelForSeq2SeqLM, pipeline\n",
    "from sklearn.feature_extraction.text import TfidfVectorizer\n",
    "from sklearn.metrics.pairwise import cosine_similarity\n",
    "import numpy as np\n",
    "\n",
    "# Initialize the T5 model and tokenizer\n",
    "model_name = \"t5-small\"\n",
    "tokenizer = AutoTokenizer.from_pretrained(model_name)\n",
    "model = AutoModelForSeq2SeqLM.from_pretrained(model_name)\n",
    "qa_pipeline = pipeline(\"text2text-generation\", model=model, tokenizer=tokenizer)\n"
   ]
  },
  {
   "cell_type": "code",
   "execution_count": 3,
   "id": "e444731d-0ec8-4878-a153-dd0e202bafcf",
   "metadata": {},
   "outputs": [],
   "source": [
    "# Sample documents for retrieval\n",
    "documents = [\n",
    "    \"Excavation best practices and safety measures.\",\n",
    "    \"Concrete pouring techniques and timelines.\",\n",
    "    \"Resource management in construction projects.\",\n",
    "    \"Optimizing task schedules for construction efficiency.\",\n",
    "    \"Handling dependencies and predecessor tasks effectively.\"\n",
    "]\n",
    "\n",
    "# Initialize the TF-IDF vectorizer\n",
    "vectorizer = TfidfVectorizer()\n",
    "doc_vectors = vectorizer.fit_transform(documents)\n",
    "\n",
    "def retrieve_documents(query, vectorizer, doc_vectors, documents, top_k=2):\n",
    "    query_vector = vectorizer.transform([query])\n",
    "    similarities = cosine_similarity(query_vector, doc_vectors).flatten()\n",
    "    top_indices = np.argsort(similarities)[-top_k:]\n",
    "    return [documents[i] for i in top_indices[::-1]]\n"
   ]
  },
  {
   "cell_type": "code",
   "execution_count": 5,
   "id": "4d6c1a08-4373-46d7-8b72-4f5fc1809f52",
   "metadata": {},
   "outputs": [],
   "source": [
    "def query_documents(query, qa_pipeline, vectorizer, doc_vectors, documents):\n",
    "    retrieved_docs = retrieve_documents(query, vectorizer, doc_vectors, documents)\n",
    "    text_input = f\"Query: {query}\\nRelevant documents:\\n\" + \"\\n\".join(retrieved_docs)\n",
    "    \n",
    "    output = qa_pipeline(text_input, max_length=512)\n",
    "    return output[0]['generated_text']\n"
   ]
  },
  {
   "cell_type": "code",
   "execution_count": 7,
   "id": "d1d21a4e-2ffa-43dd-8334-557ae2af661e",
   "metadata": {},
   "outputs": [],
   "source": [
    "def optimize_schedule(qa_pipeline, vectorizer, doc_vectors, documents):\n",
    "    queries = [\n",
    "        \"What is the optimal order of tasks?\",\n",
    "        \"How can we minimize the duration of the construction project?\",\n",
    "        \"Which resources are critical for task completion?\",\n",
    "        \"Identify potential bottlenecks in the schedule.\"\n",
    "    ]\n",
    "    \n",
    "    optimization_results = {}\n",
    "    for query in queries:\n",
    "        answer = query_documents(query, qa_pipeline, vectorizer, doc_vectors, documents)\n",
    "        optimization_results[query] = answer\n",
    "    \n",
    "    return optimization_results\n"
   ]
  },
  {
   "cell_type": "code",
   "execution_count": 9,
   "id": "185640c9-f0c2-482d-a7c9-7a390ed32b22",
   "metadata": {},
   "outputs": [
    {
     "name": "stdout",
     "output_type": "stream",
     "text": [
      "Query: What is the optimal order of tasks?\n",
      "Answer: What is the optimal order of tasks? Query: What is the optimal order of tasks? Relevant documents: Handling dependencies and predecessor tasks effectively. Optimizing task schedules for construction efficiency.\n",
      "\n",
      "Query: How can we minimize the duration of the construction project?\n",
      "Answer: How can we minimize the duration of the construction project? Relevant documents: Resource management in construction projects. Optimizing task schedules for construction efficiency.\n",
      "\n",
      "Query: Which resources are critical for task completion?\n",
      "Answer: Which resources are critical for task completion? Relevant documents: Optimierung task schedules for construction efficiency. Handling dependencies and predecessor tasks effectively.\n",
      "\n",
      "Query: Identify potential bottlenecks in the schedule.\n",
      "Answer: Query: Identify potential bottlenecks in the schedule. Relevant documents: Resource management in construction projects. Handling dependencies and predecessor tasks effectively.\n",
      "\n"
     ]
    }
   ],
   "source": [
    "optimization_results = optimize_schedule(qa_pipeline, vectorizer, doc_vectors, documents)\n",
    "for query, result in optimization_results.items():\n",
    "    print(f\"Query: {query}\")\n",
    "    print(f\"Answer: {result}\\n\")\n"
   ]
  },
  {
   "cell_type": "markdown",
   "id": "98133246-603c-473d-9fe2-74956f2b5c9d",
   "metadata": {},
   "source": [
    "Explanation\n",
    "\n",
    "    Data Collection and Preparation: Collect and prepare task and resource data, including task descriptions, durations, relationships, and relevant documents.\n",
    "    Document Retrieval: Implement a simple document retrieval system using TF-IDF vectorization and cosine similarity to fetch relevant documents based on queries.\n",
    "    T5 Model Integration: Use the T5 model for question-answering and text generation. Initialize the model and tokenizer, and create a pipeline for text generation.\n",
    "    Helper Functions: Define functions to retrieve relevant documents and query the T5 model.\n",
    "    Optimization Logic: Develop a function to optimize the schedule by querying the documents with relevant questions and analyzing the model's responses.\n",
    "    Implementation: The example implementation includes defining the document retrieval system, creating helper functions, running the optimization, and printing the results."
   ]
  },
  {
   "cell_type": "code",
   "execution_count": null,
   "id": "2e04c231-0dc1-411a-a819-4611026ecd10",
   "metadata": {},
   "outputs": [],
   "source": []
  }
 ],
 "metadata": {
  "kernelspec": {
   "display_name": "Python 3 (ipykernel)",
   "language": "python",
   "name": "python3"
  },
  "language_info": {
   "codemirror_mode": {
    "name": "ipython",
    "version": 3
   },
   "file_extension": ".py",
   "mimetype": "text/x-python",
   "name": "python",
   "nbconvert_exporter": "python",
   "pygments_lexer": "ipython3",
   "version": "3.12.4"
  }
 },
 "nbformat": 4,
 "nbformat_minor": 5
}
