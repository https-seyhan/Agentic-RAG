{
 "cells": [
  {
   "cell_type": "markdown",
   "id": "9ee4e625-5342-4ec3-bc8b-8e4778601a77",
   "metadata": {},
   "source": [
    "To optimize a construction schedule using an Agentic Retrieval-Augmented Generation (RAG) system with T5-small for question-answering, incorporating the ReAct framework, we can follow a structured approach. ReAct, or Reasoning and Acting, involves integrating retrieval, reasoning, and action to solve problems. Here's how to implement it:\n",
    "Step-by-Step Implementation\n",
    "\n",
    "    Data Collection and Preparation: Collect and prepare the data, including task details, dependencies, resource allocations, and relevant documents.\n",
    "    Define Document Retrieval System: Use a document retrieval system to fetch relevant documents based on queries.\n",
    "    Integrate the T5 Model: Use the T5 model for question-answering, leveraging the retrieved documents for better context.\n",
    "    Implement the ReAct Framework: Combine document retrieval, reasoning, and the T5 model to optimize the construction schedule."
   ]
  },
  {
   "cell_type": "code",
   "execution_count": 2,
   "id": "5b500d3d-9a1a-4d84-a2e0-9586a4c4af09",
   "metadata": {},
   "outputs": [],
   "source": [
    "from transformers import AutoTokenizer, AutoModelForSeq2SeqLM, pipeline\n",
    "from sklearn.feature_extraction.text import TfidfVectorizer\n",
    "from sklearn.metrics.pairwise import cosine_similarity\n",
    "import numpy as np\n",
    "\n",
    "# Initialize the T5 model and tokenizer\n",
    "model_name = \"t5-small\"\n",
    "tokenizer = AutoTokenizer.from_pretrained(model_name)\n",
    "model = AutoModelForSeq2SeqLM.from_pretrained(model_name)\n",
    "qa_pipeline = pipeline(\"text2text-generation\", model=model, tokenizer=tokenizer)\n"
   ]
  },
  {
   "cell_type": "code",
   "execution_count": 4,
   "id": "c970d2b3-5e2a-4f9a-a68d-fee6a4218314",
   "metadata": {},
   "outputs": [],
   "source": [
    "# Sample documents for retrieval\n",
    "documents = [\n",
    "    \"Excavation best practices and safety measures.\",\n",
    "    \"Concrete pouring techniques and timelines.\",\n",
    "    \"Resource management in construction projects.\",\n",
    "    \"Optimizing task schedules for construction efficiency.\",\n",
    "    \"Handling dependencies and predecessor tasks effectively.\"\n",
    "]\n",
    "\n",
    "# Initialize the TF-IDF vectorizer\n",
    "vectorizer = TfidfVectorizer()\n",
    "doc_vectors = vectorizer.fit_transform(documents)\n",
    "\n",
    "def retrieve_documents(query, vectorizer, doc_vectors, documents, top_k=2):\n",
    "    query_vector = vectorizer.transform([query])\n",
    "    similarities = cosine_similarity(query_vector, doc_vectors).flatten()\n",
    "    top_indices = np.argsort(similarities)[-top_k:]\n",
    "    return [documents[i] for i in top_indices[::-1]]\n",
    "\n"
   ]
  },
  {
   "cell_type": "code",
   "execution_count": 6,
   "id": "af0c0d19-7326-44de-8dfd-f121ba6d136c",
   "metadata": {},
   "outputs": [],
   "source": [
    "def query_documents(query, qa_pipeline, vectorizer, doc_vectors, documents):\n",
    "    retrieved_docs = retrieve_documents(query, vectorizer, doc_vectors, documents)\n",
    "    text_input = f\"Query: {query}\\nRelevant documents:\\n\" + \"\\n\".join(retrieved_docs)\n",
    "    \n",
    "    output = qa_pipeline(text_input, max_length=512)\n",
    "    return output[0]['generated_text']\n"
   ]
  },
  {
   "cell_type": "code",
   "execution_count": 8,
   "id": "9e10644f-497e-484e-8201-dcbbcad3c191",
   "metadata": {},
   "outputs": [],
   "source": [
    "def react_optimize_schedule(qa_pipeline, vectorizer, doc_vectors, documents):\n",
    "    # Step 1: Identify key optimization queries\n",
    "    queries = [\n",
    "        \"What is the optimal order of tasks?\",\n",
    "        \"How can we minimize the duration of the construction project?\",\n",
    "        \"Which resources are critical for task completion?\",\n",
    "        \"Identify potential bottlenecks in the schedule.\"\n",
    "    ]\n",
    "\n",
    "    # Step 2: Initialize the state\n",
    "    optimization_results = {}\n",
    "    state = {}\n",
    "\n",
    "    for query in queries:\n",
    "        # Step 3: Retrieve relevant documents\n",
    "        retrieved_docs = retrieve_documents(query, vectorizer, doc_vectors, documents)\n",
    "        state['retrieved_docs'] = retrieved_docs\n",
    "\n",
    "        # Step 4: Reasoning - Generate response using QA model\n",
    "        text_input = f\"Query: {query}\\nRelevant documents:\\n\" + \"\\n\".join(retrieved_docs)\n",
    "        output = qa_pipeline(text_input, max_length=512)\n",
    "        response = output[0]['generated_text']\n",
    "\n",
    "        # Step 5: Update state with the response\n",
    "        state['response'] = response\n",
    "        optimization_results[query] = response\n",
    "\n",
    "        # Optionally, you can add more reasoning and acting steps based on the current state and new queries\n",
    "        # For example, if a potential bottleneck is identified, query further about mitigating the bottleneck\n",
    "\n",
    "    return optimization_results\n"
   ]
  },
  {
   "cell_type": "code",
   "execution_count": 10,
   "id": "e04dcf57-12a2-4923-b72e-45828bc73c55",
   "metadata": {},
   "outputs": [
    {
     "name": "stdout",
     "output_type": "stream",
     "text": [
      "Query: What is the optimal order of tasks?\n",
      "Answer: What is the optimal order of tasks? Query: What is the optimal order of tasks? Relevant documents: Handling dependencies and predecessor tasks effectively. Optimizing task schedules for construction efficiency.\n",
      "\n",
      "Query: How can we minimize the duration of the construction project?\n",
      "Answer: How can we minimize the duration of the construction project? Relevant documents: Resource management in construction projects. Optimizing task schedules for construction efficiency.\n",
      "\n",
      "Query: Which resources are critical for task completion?\n",
      "Answer: Which resources are critical for task completion? Relevant documents: Optimierung task schedules for construction efficiency. Handling dependencies and predecessor tasks effectively.\n",
      "\n",
      "Query: Identify potential bottlenecks in the schedule.\n",
      "Answer: Query: Identify potential bottlenecks in the schedule. Relevant documents: Resource management in construction projects. Handling dependencies and predecessor tasks effectively.\n",
      "\n"
     ]
    }
   ],
   "source": [
    "optimization_results = react_optimize_schedule(qa_pipeline, vectorizer, doc_vectors, documents)\n",
    "for query, result in optimization_results.items():\n",
    "    print(f\"Query: {query}\")\n",
    "    print(f\"Answer: {result}\\n\")\n"
   ]
  },
  {
   "cell_type": "markdown",
   "id": "6f4e8700-e6f5-4fb2-ac32-3d7f82be96a7",
   "metadata": {},
   "source": [
    "Explanation\n",
    "\n",
    "    Data Collection and Preparation: Collect and prepare task and resource data, including task descriptions, durations, relationships, and relevant documents.\n",
    "    Document Retrieval: Implement a simple document retrieval system using TF-IDF vectorization and cosine similarity to fetch relevant documents based on queries.\n",
    "    T5 Model Integration: Use the T5 model for question-answering and text generation. Initialize the model and tokenizer, and create a pipeline for text generation.\n",
    "    ReAct Framework: Implement the ReAct framework by defining key optimization queries, retrieving relevant documents, reasoning using the T5 model, and updating the state with responses.\n",
    "    Optimization Logic: The optimization logic includes identifying key queries, retrieving relevant documents, reasoning using the T5 model, and optionally adding more reasoning and acting steps based on the current state.\n",
    "    Implementation: The example implementation includes defining the document retrieval system, creating helper functions, running the optimization, and printing the results.\n",
    "\n",
    "This approach leverages document retrieval and language models to optimize construction schedules within the ReAct framework, providing a context-aware and iterative solution."
   ]
  },
  {
   "cell_type": "code",
   "execution_count": null,
   "id": "736c73c2-cc7b-44bc-8c44-33abc458ebc1",
   "metadata": {},
   "outputs": [],
   "source": []
  }
 ],
 "metadata": {
  "kernelspec": {
   "display_name": "Python 3 (ipykernel)",
   "language": "python",
   "name": "python3"
  },
  "language_info": {
   "codemirror_mode": {
    "name": "ipython",
    "version": 3
   },
   "file_extension": ".py",
   "mimetype": "text/x-python",
   "name": "python",
   "nbconvert_exporter": "python",
   "pygments_lexer": "ipython3",
   "version": "3.12.4"
  }
 },
 "nbformat": 4,
 "nbformat_minor": 5
}
