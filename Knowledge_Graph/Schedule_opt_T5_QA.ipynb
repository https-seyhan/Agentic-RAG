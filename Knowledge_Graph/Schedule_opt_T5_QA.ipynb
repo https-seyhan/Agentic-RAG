{
 "cells": [
  {
   "cell_type": "code",
   "execution_count": 1,
   "id": "8ffcaa49-f973-4c48-b087-e88669cff134",
   "metadata": {},
   "outputs": [],
   "source": [
    "import networkx as nx\n",
    "from transformers import AutoTokenizer, AutoModelForSeq2SeqLM, pipeline\n",
    "\n",
    "# Initialise the T5 model and tokenizer\n",
    "model_name = \"t5-small\"\n",
    "tokenizer = AutoTokenizer.from_pretrained(model_name)\n",
    "model = AutoModelForSeq2SeqLM.from_pretrained(model_name)\n",
    "qa_pipeline = pipeline(\"text2text-generation\", model=model, tokenizer=tokenizer)\n"
   ]
  },
  {
   "cell_type": "code",
   "execution_count": 3,
   "id": "ff547d6e-ae15-4d94-8fa7-6d2aba1f195c",
   "metadata": {},
   "outputs": [],
   "source": [
    "# Initialize the graph\n",
    "G = nx.DiGraph()\n",
    "\n",
    "# Add nodes for Tasks, PredTasks, TasksRSRC, and RSRC\n",
    "G.add_node(\"Task1\", type=\"Task\", duration=5, description=\"Excavate foundation\")\n",
    "G.add_node(\"Task2\", type=\"Task\", duration=3, description=\"Pour concrete\")\n",
    "G.add_node(\"Resource1\", type=\"RSRC\", description=\"Excavator\")\n",
    "G.add_node(\"Resource2\", type=\"RSRC\", description=\"Concrete Mixer\")\n",
    "G.add_node(\"Task1-Resource1\", type=\"TasksRSRC\")\n",
    "G.add_node(\"Task2-Resource2\", type=\"TasksRSRC\")\n",
    "\n",
    "# Add edges representing relationships\n",
    "G.add_edge(\"Task1\", \"Task2\", type=\"HAS_PREDTASK\")\n",
    "G.add_edge(\"Task1\", \"Resource1\", type=\"REQUIRES_RSRC\")\n",
    "G.add_edge(\"Task2\", \"Resource2\", type=\"REQUIRES_RSRC\")\n",
    "G.add_edge(\"Resource1\", \"Task1-Resource1\", type=\"ALLOCATED_TO\")\n",
    "G.add_edge(\"Resource2\", \"Task2-Resource2\", type=\"ALLOCATED_TO\")\n"
   ]
  },
  {
   "cell_type": "code",
   "execution_count": 5,
   "id": "611dec2a-ad21-4186-a06f-5a7a53c500a0",
   "metadata": {},
   "outputs": [],
   "source": [
    "def graph_to_text(graph):\n",
    "    text = \"Optimize the following construction schedule:\\n\"\n",
    "    for node, data in graph.nodes(data=True):\n",
    "        text += f\"Task: {node}, Duration: {data.get('duration', 'N/A')}, Description: {data.get('description', 'N/A')}\\n\"\n",
    "    for u, v, data in graph.edges(data=True):\n",
    "        text += f\"{u} -> {v} ({data['type']})\\n\"\n",
    "    return text\n",
    "\n",
    "def optimize_schedule(graph, qa_pipeline):\n",
    "    # Convert the graph to a text representation\n",
    "    text_input = graph_to_text(graph)\n",
    "    \n",
    "    # Generate an optimized schedule using the T5 model\n",
    "    output = qa_pipeline(text_input, max_length=512)\n",
    "    return output[0]['generated_text']\n"
   ]
  },
  {
   "cell_type": "code",
   "execution_count": 7,
   "id": "ccc7e537-4e33-447f-bb73-22defe709aef",
   "metadata": {},
   "outputs": [
    {
     "name": "stdout",
     "output_type": "stream",
     "text": [
      ": Excavator Task: Resource1, Duration: 5, Description: Excavate foundation Task: Task2, Duration: 3, Description: Pour concrete Task: Resource1, Duration: N/A, Description: Pour concrete Task: Resource1, Duration: N/A, Description: Pour concrete Task: Resource2, Duration: N/A, Description: N/A Task: Task2-Resource2, Duration: N/A, Description: N/A Task: Task1-Resource2, Duration: N/A, Description: N/A Task:\n"
     ]
    }
   ],
   "source": [
    "optimized_schedule = optimize_schedule(G, qa_pipeline)\n",
    "print(optimized_schedule)\n"
   ]
  },
  {
   "cell_type": "code",
   "execution_count": null,
   "id": "d731e730-bcab-4f6b-acdb-b9955874c6cf",
   "metadata": {},
   "outputs": [],
   "source": []
  }
 ],
 "metadata": {
  "kernelspec": {
   "display_name": "Python 3 (ipykernel)",
   "language": "python",
   "name": "python3"
  },
  "language_info": {
   "codemirror_mode": {
    "name": "ipython",
    "version": 3
   },
   "file_extension": ".py",
   "mimetype": "text/x-python",
   "name": "python",
   "nbconvert_exporter": "python",
   "pygments_lexer": "ipython3",
   "version": "3.12.4"
  }
 },
 "nbformat": 4,
 "nbformat_minor": 5
}
