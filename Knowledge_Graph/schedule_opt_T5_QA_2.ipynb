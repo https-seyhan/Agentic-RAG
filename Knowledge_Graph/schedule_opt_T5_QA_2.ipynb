{
 "cells": [
  {
   "cell_type": "markdown",
   "id": "00799d12-90b1-4ab9-8576-0f4c3ef13652",
   "metadata": {},
   "source": [
    "To optimise a construction schedule using an Agentic Retrieval-Augmented Generation (RAG) system with T5-small, we can design a solution that combines knowledge graph representation with the power of a language model for question-answering. Here's a detailed step-by-step approach to achieve this in Python:\n",
    "Step 1: Data Collection and Preparation\n",
    "\n",
    "Collect and prepare the data, including task details, dependencies, resource allocations, and other relevant information.\n",
    "Step 2: Define the Knowledge Graph\n",
    "\n",
    "Create a knowledge graph using networkx to represent the construction schedule.\n",
    "Step 3: Integrate the T5 Model\n",
    "\n",
    "Integrate the T5 model to perform question-answering and retrieve relevant information from the knowledge graph.\n",
    "Step 4: Implement the Agentic RAG System in Python"
   ]
  },
  {
   "cell_type": "code",
   "execution_count": 2,
   "id": "55f8cc1e-9c18-442e-802a-d7aaf97de08b",
   "metadata": {},
   "outputs": [],
   "source": [
    "import networkx as nx\n",
    "from transformers import AutoTokenizer, AutoModelForSeq2SeqLM, pipeline\n",
    "\n",
    "# Initialize the T5 model and tokenizer\n",
    "model_name = \"t5-small\"\n",
    "tokenizer = AutoTokenizer.from_pretrained(model_name)\n",
    "model = AutoModelForSeq2SeqLM.from_pretrained(model_name)\n",
    "qa_pipeline = pipeline(\"text2text-generation\", model=model, tokenizer=tokenizer)\n"
   ]
  },
  {
   "cell_type": "code",
   "execution_count": 4,
   "id": "7a499e60-0ecd-4cb8-98c1-88fbd204147b",
   "metadata": {},
   "outputs": [],
   "source": [
    "# Initialize the graph\n",
    "G = nx.DiGraph()\n",
    "\n",
    "# Add nodes for Tasks, PredTasks, TasksRSRC, and RSRC\n",
    "G.add_node(\"Task1\", type=\"Task\", duration=5, description=\"Excavate foundation\")\n",
    "G.add_node(\"Task2\", type=\"Task\", duration=3, description=\"Pour concrete\")\n",
    "G.add_node(\"Resource1\", type=\"RSRC\", description=\"Excavator\")\n",
    "G.add_node(\"Resource2\", type=\"RSRC\", description=\"Concrete Mixer\")\n",
    "G.add_node(\"Task1-Resource1\", type=\"TasksRSRC\")\n",
    "G.add_node(\"Task2-Resource2\", type=\"TasksRSRC\")\n",
    "\n",
    "# Add edges representing relationships\n",
    "G.add_edge(\"Task1\", \"Task2\", type=\"HAS_PREDTASK\")\n",
    "G.add_edge(\"Task1\", \"Resource1\", type=\"REQUIRES_RSRC\")\n",
    "G.add_edge(\"Task2\", \"Resource2\", type=\"REQUIRES_RSRC\")\n",
    "G.add_edge(\"Resource1\", \"Task1-Resource1\", type=\"ALLOCATED_TO\")\n",
    "G.add_edge(\"Resource2\", \"Task2-Resource2\", type=\"ALLOCATED_TO\")\n"
   ]
  },
  {
   "cell_type": "code",
   "execution_count": 6,
   "id": "15846dd3-144e-4d6d-8a90-2f1830a985ed",
   "metadata": {},
   "outputs": [],
   "source": [
    "def graph_to_text(graph):\n",
    "    text = \"Construction schedule details:\\n\"\n",
    "    for node, data in graph.nodes(data=True):\n",
    "        text += f\"Task: {node}, Duration: {data.get('duration', 'N/A')}, Description: {data.get('description', 'N/A')}\\n\"\n",
    "    for u, v, data in graph.edges(data=True):\n",
    "        text += f\"{u} -> {v} ({data['type']})\\n\"\n",
    "    return text\n",
    "\n",
    "def query_graph(graph, query):\n",
    "    text_input = f\"Query: {query}\\n{graph_to_text(graph)}\"\n",
    "    output = qa_pipeline(text_input, max_length=512)\n",
    "    return output[0]['generated_text']\n"
   ]
  },
  {
   "cell_type": "code",
   "execution_count": 8,
   "id": "fd3ac91a-aa56-4ad1-b096-16900de89ae2",
   "metadata": {},
   "outputs": [],
   "source": [
    "def optimise_schedule(graph, qa_pipeline):\n",
    "    queries = [\n",
    "        \"What is the optimal order of tasks?\",\n",
    "        \"How can we minimize the duration of the construction project?\",\n",
    "        \"Which resources are critical for task completion?\",\n",
    "        \"Identify potential bottlenecks in the schedule.\"\n",
    "    ]\n",
    "    \n",
    "    optimisation_results = {}\n",
    "    for query in queries:\n",
    "        answer = query_graph(graph, query)\n",
    "        optimisation_results[query] = answer\n",
    "    \n",
    "    return optimisation_results\n"
   ]
  },
  {
   "cell_type": "code",
   "execution_count": 10,
   "id": "a64fa152-37a1-479c-b641-8a910af1586a",
   "metadata": {},
   "outputs": [
    {
     "ename": "NameError",
     "evalue": "name 'optimize_schedule' is not defined",
     "output_type": "error",
     "traceback": [
      "\u001b[0;31m---------------------------------------------------------------------------\u001b[0m",
      "\u001b[0;31mNameError\u001b[0m                                 Traceback (most recent call last)",
      "Cell \u001b[0;32mIn[10], line 1\u001b[0m\n\u001b[0;32m----> 1\u001b[0m optimisation_results \u001b[38;5;241m=\u001b[39m optimize_schedule(G, qa_pipeline)\n\u001b[1;32m      2\u001b[0m \u001b[38;5;28;01mfor\u001b[39;00m query, result \u001b[38;5;129;01min\u001b[39;00m optimisation_results\u001b[38;5;241m.\u001b[39mitems():\n\u001b[1;32m      3\u001b[0m     \u001b[38;5;28mprint\u001b[39m(\u001b[38;5;124mf\u001b[39m\u001b[38;5;124m\"\u001b[39m\u001b[38;5;124mQuery: \u001b[39m\u001b[38;5;132;01m{\u001b[39;00mquery\u001b[38;5;132;01m}\u001b[39;00m\u001b[38;5;124m\"\u001b[39m)\n",
      "\u001b[0;31mNameError\u001b[0m: name 'optimize_schedule' is not defined"
     ]
    }
   ],
   "source": [
    "optimisation_results = optimise_schedule(G, qa_pipeline)\n",
    "for query, result in optimisation_results.items():\n",
    "    print(f\"Query: {query}\")\n",
    "    print(f\"Answer: {result}\\n\")\n"
   ]
  },
  {
   "cell_type": "code",
   "execution_count": null,
   "id": "da0de32a-626b-49e8-9527-78343279cdbf",
   "metadata": {},
   "outputs": [],
   "source": []
  }
 ],
 "metadata": {
  "kernelspec": {
   "display_name": "Python 3 (ipykernel)",
   "language": "python",
   "name": "python3"
  },
  "language_info": {
   "codemirror_mode": {
    "name": "ipython",
    "version": 3
   },
   "file_extension": ".py",
   "mimetype": "text/x-python",
   "name": "python",
   "nbconvert_exporter": "python",
   "pygments_lexer": "ipython3",
   "version": "3.12.4"
  }
 },
 "nbformat": 4,
 "nbformat_minor": 5
}
