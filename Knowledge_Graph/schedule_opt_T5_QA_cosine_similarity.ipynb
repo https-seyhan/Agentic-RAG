{
 "cells": [
  {
   "cell_type": "markdown",
   "id": "68ec9efa-c531-4462-ab38-56d5fb5e22cb",
   "metadata": {},
   "source": [
    "To optimise a construction schedule using an Agentic Retrieval-Augmented Generation (RAG) system with T5-small and incorporate document retrieval, we can extend our previous approach to include document-based information retrieval. This involves combining knowledge graph representation, a question-answering language model, and document retrieval for enhanced insights.\n",
    "Step-by-Step Implementation\n",
    "\n",
    "    Data Collection and Preparation: Collect and prepare data, including task details, dependencies, resource allocations, and relevant documents.\n",
    "    Define the Knowledge Graph: Create a knowledge graph using networkx to represent the construction schedule.\n",
    "    Integrate Document Retrieval: Use a document retrieval system to fetch relevant documents based on queries.\n",
    "    Integrate the T5 Model: Use the T5 model for question-answering, leveraging the retrieved documents for better context.\n",
    "    Implement the Agentic RAG System: Combine the knowledge graph, document retrieval, and T5 model for schedule optimisation."
   ]
  },
  {
   "cell_type": "code",
   "execution_count": 1,
   "id": "21755ed7-c6d8-4fc2-8eed-60de7ec99a52",
   "metadata": {},
   "outputs": [],
   "source": [
    "import networkx as nx\n",
    "from transformers import AutoTokenizer, AutoModelForSeq2SeqLM, pipeline\n",
    "from sklearn.feature_extraction.text import TfidfVectorizer\n",
    "from sklearn.metrics.pairwise import cosine_similarity\n",
    "import numpy as np\n",
    "\n",
    "# Initialise the T5 model and tokenizer\n",
    "model_name = \"t5-small\"\n",
    "tokenizer = AutoTokenizer.from_pretrained(model_name)\n",
    "model = AutoModelForSeq2SeqLM.from_pretrained(model_name)\n",
    "qa_pipeline = pipeline(\"text2text-generation\", model=model, tokenizer=tokenizer)\n",
    "\n"
   ]
  },
  {
   "cell_type": "code",
   "execution_count": 2,
   "id": "ca496a97-4e71-40f3-a609-7a983889df79",
   "metadata": {},
   "outputs": [],
   "source": [
    "# Initialize the graph\n",
    "G = nx.DiGraph()\n",
    "\n",
    "# Add nodes for Tasks, PredTasks, TasksRSRC, and RSRC\n",
    "G.add_node(\"Task1\", type=\"Task\", duration=5, description=\"Excavate foundation\")\n",
    "G.add_node(\"Task2\", type=\"Task\", duration=3, description=\"Pour concrete\")\n",
    "G.add_node(\"Resource1\", type=\"RSRC\", description=\"Excavator\")\n",
    "G.add_node(\"Resource2\", type=\"RSRC\", description=\"Concrete Mixer\")\n",
    "G.add_node(\"Task1-Resource1\", type=\"TasksRSRC\")\n",
    "G.add_node(\"Task2-Resource2\", type=\"TasksRSRC\")\n",
    "\n",
    "# Add edges representing relationships\n",
    "G.add_edge(\"Task1\", \"Task2\", type=\"HAS_PREDTASK\")\n",
    "G.add_edge(\"Task1\", \"Resource1\", type=\"REQUIRES_RSRC\")\n",
    "G.add_edge(\"Task2\", \"Resource2\", type=\"REQUIRES_RSRC\")\n",
    "G.add_edge(\"Resource1\", \"Task1-Resource1\", type=\"ALLOCATED_TO\")\n",
    "G.add_edge(\"Resource2\", \"Task2-Resource2\", type=\"ALLOCATED_TO\")\n"
   ]
  },
  {
   "cell_type": "markdown",
   "id": "29ad41e7-ce4c-4056-9fd6-38fb5c3af0a1",
   "metadata": {},
   "source": [
    "### Define a Retrieval System"
   ]
  },
  {
   "cell_type": "code",
   "execution_count": 6,
   "id": "fd99976b-70f8-407e-9fcf-e049288be060",
   "metadata": {},
   "outputs": [],
   "source": [
    "# Sample documents for retrieval\n",
    "documents = [\n",
    "    \"Excavation best practices and safety measures.\",\n",
    "    \"Concrete pouring techniques and timelines.\",\n",
    "    \"Resource management in construction projects.\",\n",
    "    \"Optimising task schedules for construction efficiency.\",\n",
    "    \"Handling dependencies and predecessor tasks effectively.\"\n",
    "]\n",
    "\n",
    "# Initialise the TF-IDF vectorizer\n",
    "vectorizer = TfidfVectorizer()\n",
    "doc_vectors = vectorizer.fit_transform(documents)\n",
    "\n",
    "def retrieve_documents(query, vectorizer, doc_vectors, documents, top_k=2):\n",
    "    query_vector = vectorizer.transform([query])\n",
    "    similarities = cosine_similarity(query_vector, doc_vectors).flatten()\n",
    "    top_indices = np.argsort(similarities)[-top_k:]\n",
    "    return [documents[i] for i in top_indices[::-1]]\n"
   ]
  },
  {
   "cell_type": "markdown",
   "id": "d2f5446d-51f1-4db4-a6d9-22e501e5377d",
   "metadata": {},
   "source": [
    "### Define Helper System"
   ]
  },
  {
   "cell_type": "code",
   "execution_count": 9,
   "id": "791cf85e-ae84-4c79-8c91-24d4b32f0133",
   "metadata": {},
   "outputs": [],
   "source": [
    "def graph_to_text(graph):\n",
    "    text = \"Construction schedule details:\\n\"\n",
    "    for node, data in graph.nodes(data=True):\n",
    "        text += f\"Task: {node}, Duration: {data.get('duration', 'N/A')}, Description: {data.get('description', 'N/A')}\\n\"\n",
    "    for u, v, data in graph.edges(data=True):\n",
    "        text += f\"{u} -> {v} ({data['type']})\\n\"\n",
    "    return text\n",
    "\n",
    "def query_graph(graph, query, qa_pipeline, vectorizer, doc_vectors, documents):\n",
    "    text_input = f\"Query: {query}\\n{graph_to_text(graph)}\"\n",
    "    retrieved_docs = retrieve_documents(query, vectorizer, doc_vectors, documents)\n",
    "    text_input += \"\\nRelevant documents:\\n\" + \"\\n\".join(retrieved_docs)\n",
    "    \n",
    "    output = qa_pipeline(text_input, max_length=512)\n",
    "    return output[0]['generated_text']\n"
   ]
  },
  {
   "cell_type": "code",
   "execution_count": 11,
   "id": "99bed2ec-e28e-42e8-9796-3fc7f6cc4cfe",
   "metadata": {},
   "outputs": [],
   "source": [
    "def optimise_schedule(graph, qa_pipeline, vectorizer, doc_vectors, documents):\n",
    "    queries = [\n",
    "        \"What is the optimal order of tasks?\",\n",
    "        \"How can we minimize the duration of the construction project?\",\n",
    "        \"Which resources are critical for task completion?\",\n",
    "        \"Identify potential bottlenecks in the schedule.\"\n",
    "    ]\n",
    "    \n",
    "    optimisation_results = {}\n",
    "    for query in queries:\n",
    "        answer = query_graph(graph, query, qa_pipeline, vectorizer, doc_vectors, documents)\n",
    "        optimisation_results[query] = answer\n",
    "    \n",
    "    return optimisation_results\n"
   ]
  },
  {
   "cell_type": "code",
   "execution_count": 13,
   "id": "ff7d4cb9-8328-44ab-a482-68b50d56b58e",
   "metadata": {},
   "outputs": [
    {
     "name": "stdout",
     "output_type": "stream",
     "text": [
      "Query: What is the optimal order of tasks?\n",
      "Answer: : What is optimal order of tasks? Query: What is optimal order of tasks? Construction schedule details: Task: Task1, Duration: 5, Description: Excavate foundation Task: Task2, Duration: 3, Description: Pour concrete Task: Resource1, Duration: N/A, Description: Pour concrete Task: Resource1, Duration: N/A, Description: Pour concrete Task: Resource1, Duration: N/A, Description: Pour concrete Task: Resource1, Duration: N/A, Description: Pour concrete Task: Resource2, Duration: N/A\n",
      "\n",
      "Query: How can we minimize the duration of the construction project?\n",
      "Answer: : How can we minimize the duration of the construction project? Query: How can we minimize the duration of the construction project? Construction schedule details: Task: Task1, Duration: 5, Description: Excavate foundation Task: Task2, Duration: 3, Description: Pour concrete Task: Resource1, Duration: N/A, Description: Pour concrete Task: Resource1, Duration: N/A, Description: Pour concrete Task: Resource1, Duration: N/A, Description: Pour concrete Task: Task1-Resource1, Duration: N/A, Description\n",
      "\n",
      "Query: Which resources are critical for task completion?\n",
      "Answer: : Which resources are critical for task completion? Construction schedule details: Task: Task1, Duration: 5, Description: Excavate foundation Task: Task2, Duration: 3, Description: Pour concrete Task: Resource1, Duration: N/A, Description: Pour concrete Task: Resource1, Duration: N/A, Description: Pour concrete Task: Resource1, Duration: N/A, Description: Pour concrete Task: Resource2, Duration: N/A, Description: Pour concrete Task: Resource1, Duration: N/A, Description: Pour concrete Task: Task1\n",
      "\n",
      "Query: Identify potential bottlenecks in the schedule.\n",
      "Answer: :: Pour concrete Task: Resource1, Duration: 5, Description: Excavator Task: Resource2, Duration: 3, Description: Pour concrete Task: Resource1, Duration: N/A, Description: Pour concrete Task: Resource1, Duration: N/A, Description: Pour concrete Task: Resource2, Duration: N/A, Description: Pour concrete Task: Resource1, Duration: N/A, Description: Pour concrete Task: Resource2, Duration: N/A, Description: N/A Task: Task2-Resource2, Duration: N/A\n",
      "\n"
     ]
    }
   ],
   "source": [
    "optimisation_results = optimise_schedule(G, qa_pipeline, vectorizer, doc_vectors, documents)\n",
    "for query, result in optimisation_results.items():\n",
    "    print(f\"Query: {query}\")\n",
    "    print(f\"Answer: {result}\\n\")\n"
   ]
  },
  {
   "cell_type": "markdown",
   "id": "ac83795d-d61d-4b2c-9454-93d8ed557766",
   "metadata": {},
   "source": [
    "Explanation\n",
    "\n",
    "    Data Collection and Preparation: Collect and prepare task and resource data, including task descriptions, durations, relationships, and relevant documents.\n",
    "    Knowledge Graph: Create a knowledge graph using networkx to represent tasks, resources, and their relationships.\n",
    "    Document Retrieval: Implement a simple document retrieval system using TF-IDF vectorization and cosine similarity to fetch relevant documents based on queries.\n",
    "    T5 Model Integration: Use the T5 model for question-answering and text generation, initializing the model and tokenizer, and creating a pipeline for text generation.\n",
    "    Helper Functions: Define functions to convert the graph to text, retrieve relevant documents, and query the graph using the T5 model.\n",
    "    Optimization Logic: Develop a function to optimize the schedule by querying the graph with relevant questions, retrieving documents for context, and analyzing the model's responses.\n",
    "    Implementation: The example implementation includes defining the nodes and edges of the graph, creating helper functions, running the optimization, and printing the results."
   ]
  },
  {
   "cell_type": "code",
   "execution_count": null,
   "id": "b938fc9d-37ea-422a-b040-c6708570b7d6",
   "metadata": {},
   "outputs": [],
   "source": []
  }
 ],
 "metadata": {
  "kernelspec": {
   "display_name": "Python 3 (ipykernel)",
   "language": "python",
   "name": "python3"
  },
  "language_info": {
   "codemirror_mode": {
    "name": "ipython",
    "version": 3
   },
   "file_extension": ".py",
   "mimetype": "text/x-python",
   "name": "python",
   "nbconvert_exporter": "python",
   "pygments_lexer": "ipython3",
   "version": "3.12.4"
  }
 },
 "nbformat": 4,
 "nbformat_minor": 5
}
