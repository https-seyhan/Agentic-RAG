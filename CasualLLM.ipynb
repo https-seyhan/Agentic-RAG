{
 "cells": [
  {
   "cell_type": "code",
   "execution_count": 3,
   "id": "966d5b01-2248-4119-a7c6-95c5dbea6617",
   "metadata": {},
   "outputs": [],
   "source": [
    "import time\n",
    "from transformers import AutoTokenizer, AutoModelForCausalLM"
   ]
  },
  {
   "cell_type": "code",
   "execution_count": null,
   "id": "9fb590c0-1895-4d4b-80ba-42f3ddde822c",
   "metadata": {},
   "outputs": [],
   "source": []
  },
  {
   "cell_type": "code",
   "execution_count": 6,
   "id": "6f816cf6-f439-4ee6-a8f4-afe35f258d42",
   "metadata": {},
   "outputs": [],
   "source": [
    "import torch\n",
    "import urllib3\n",
    "from transformers import AutoTokenizer, AutoModelForCausalLM\n",
    "import os"
   ]
  },
  {
   "cell_type": "code",
   "execution_count": null,
   "id": "9e7267aa-b842-4ca5-8b6d-2445c8457b68",
   "metadata": {},
   "outputs": [],
   "source": [
    "start_time = time.time()"
   ]
  },
  {
   "cell_type": "code",
   "execution_count": 8,
   "id": "9e046fd7-b6a5-460e-be06-4565bafad110",
   "metadata": {},
   "outputs": [],
   "source": [
    "model_name = 'EleutherAI/gpt-j-6B'"
   ]
  },
  {
   "cell_type": "code",
   "execution_count": 10,
   "id": "a401ee44-eea6-45e0-a210-3aa7867d5013",
   "metadata": {},
   "outputs": [],
   "source": [
    "tokenizer = AutoTokenizer.from_pretrained(model_name)\n"
   ]
  },
  {
   "cell_type": "code",
   "execution_count": null,
   "id": "c392fb59-0452-4f34-a0ca-edf0d113b1f5",
   "metadata": {},
   "outputs": [
    {
     "data": {
      "application/vnd.jupyter.widget-view+json": {
       "model_id": "8bf6dce969514fa8b4356972a29e6b4b",
       "version_major": 2,
       "version_minor": 0
      },
      "text/plain": [
       "pytorch_model.bin:  30%|###       | 7.35G/24.2G [00:00<?, ?B/s]"
      ]
     },
     "metadata": {},
     "output_type": "display_data"
    }
   ],
   "source": [
    "model = AutoModelForCausalLM.from_pretrained(model_name)"
   ]
  },
  {
   "cell_type": "code",
   "execution_count": null,
   "id": "40973f51-891b-45bc-b496-40c4c8c4f8f6",
   "metadata": {},
   "outputs": [],
   "source": [
    "current_time = time.time()"
   ]
  },
  {
   "cell_type": "code",
   "execution_count": null,
   "id": "06ea3818-ae15-485f-87ea-7d3ccee0a718",
   "metadata": {},
   "outputs": [],
   "source": [
    "elapsed_time = current_time - self.start_time"
   ]
  },
  {
   "cell_type": "code",
   "execution_count": null,
   "id": "1c43493c-ec49-44e3-929d-75318bf0cd18",
   "metadata": {},
   "outputs": [],
   "source": []
  },
  {
   "cell_type": "code",
   "execution_count": null,
   "id": "6ab4d750-d14b-4dbd-b9ec-4431ebdc3207",
   "metadata": {},
   "outputs": [],
   "source": [
    "print(f'Minutes passed: {elapsed_time}') "
   ]
  }
 ],
 "metadata": {
  "kernelspec": {
   "display_name": "Python 3 (ipykernel)",
   "language": "python",
   "name": "python3"
  },
  "language_info": {
   "codemirror_mode": {
    "name": "ipython",
    "version": 3
   },
   "file_extension": ".py",
   "mimetype": "text/x-python",
   "name": "python",
   "nbconvert_exporter": "python",
   "pygments_lexer": "ipython3",
   "version": "3.12.4"
  }
 },
 "nbformat": 4,
 "nbformat_minor": 5
}
